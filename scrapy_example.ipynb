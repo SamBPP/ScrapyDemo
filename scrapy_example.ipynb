{
 "cells": [
  {
   "cell_type": "code",
   "execution_count": 1,
   "id": "b77bd462",
   "metadata": {},
   "outputs": [
    {
     "name": "stdout",
     "output_type": "stream",
     "text": [
      "Requirement already satisfied: scrapy in c:\\users\\sread\\git\\scrapydemo\\.venv\\lib\\site-packages (2.13.1)\n",
      "Requirement already satisfied: cryptography>=37.0.0 in c:\\users\\sread\\git\\scrapydemo\\.venv\\lib\\site-packages (from scrapy) (45.0.3)\n",
      "Requirement already satisfied: cssselect>=0.9.1 in c:\\users\\sread\\git\\scrapydemo\\.venv\\lib\\site-packages (from scrapy) (1.3.0)\n",
      "Requirement already satisfied: defusedxml>=0.7.1 in c:\\users\\sread\\git\\scrapydemo\\.venv\\lib\\site-packages (from scrapy) (0.7.1)\n",
      "Requirement already satisfied: itemadapter>=0.1.0 in c:\\users\\sread\\git\\scrapydemo\\.venv\\lib\\site-packages (from scrapy) (0.11.0)\n",
      "Requirement already satisfied: itemloaders>=1.0.1 in c:\\users\\sread\\git\\scrapydemo\\.venv\\lib\\site-packages (from scrapy) (1.3.2)\n",
      "Requirement already satisfied: lxml>=4.6.0 in c:\\users\\sread\\git\\scrapydemo\\.venv\\lib\\site-packages (from scrapy) (5.4.0)\n",
      "Requirement already satisfied: packaging in c:\\users\\sread\\git\\scrapydemo\\.venv\\lib\\site-packages (from scrapy) (25.0)\n",
      "Requirement already satisfied: parsel>=1.5.0 in c:\\users\\sread\\git\\scrapydemo\\.venv\\lib\\site-packages (from scrapy) (1.10.0)\n",
      "Requirement already satisfied: protego>=0.1.15 in c:\\users\\sread\\git\\scrapydemo\\.venv\\lib\\site-packages (from scrapy) (0.4.0)\n",
      "Requirement already satisfied: pydispatcher>=2.0.5 in c:\\users\\sread\\git\\scrapydemo\\.venv\\lib\\site-packages (from scrapy) (2.0.7)\n",
      "Requirement already satisfied: pyopenssl>=22.0.0 in c:\\users\\sread\\git\\scrapydemo\\.venv\\lib\\site-packages (from scrapy) (25.1.0)\n",
      "Requirement already satisfied: queuelib>=1.4.2 in c:\\users\\sread\\git\\scrapydemo\\.venv\\lib\\site-packages (from scrapy) (1.8.0)\n",
      "Requirement already satisfied: service-identity>=18.1.0 in c:\\users\\sread\\git\\scrapydemo\\.venv\\lib\\site-packages (from scrapy) (24.2.0)\n",
      "Requirement already satisfied: tldextract in c:\\users\\sread\\git\\scrapydemo\\.venv\\lib\\site-packages (from scrapy) (5.3.0)\n",
      "Requirement already satisfied: twisted>=21.7.0 in c:\\users\\sread\\git\\scrapydemo\\.venv\\lib\\site-packages (from scrapy) (24.11.0)\n",
      "Requirement already satisfied: w3lib>=1.17.0 in c:\\users\\sread\\git\\scrapydemo\\.venv\\lib\\site-packages (from scrapy) (2.3.1)\n",
      "Requirement already satisfied: zope-interface>=5.1.0 in c:\\users\\sread\\git\\scrapydemo\\.venv\\lib\\site-packages (from scrapy) (7.2)\n",
      "Requirement already satisfied: cffi>=1.14 in c:\\users\\sread\\git\\scrapydemo\\.venv\\lib\\site-packages (from cryptography>=37.0.0->scrapy) (1.17.1)\n",
      "Requirement already satisfied: pycparser in c:\\users\\sread\\git\\scrapydemo\\.venv\\lib\\site-packages (from cffi>=1.14->cryptography>=37.0.0->scrapy) (2.22)\n",
      "Requirement already satisfied: jmespath>=0.9.5 in c:\\users\\sread\\git\\scrapydemo\\.venv\\lib\\site-packages (from itemloaders>=1.0.1->scrapy) (1.0.1)\n",
      "Requirement already satisfied: attrs>=19.1.0 in c:\\users\\sread\\git\\scrapydemo\\.venv\\lib\\site-packages (from service-identity>=18.1.0->scrapy) (25.3.0)\n",
      "Requirement already satisfied: pyasn1 in c:\\users\\sread\\git\\scrapydemo\\.venv\\lib\\site-packages (from service-identity>=18.1.0->scrapy) (0.6.1)\n",
      "Requirement already satisfied: pyasn1-modules in c:\\users\\sread\\git\\scrapydemo\\.venv\\lib\\site-packages (from service-identity>=18.1.0->scrapy) (0.4.2)\n",
      "Requirement already satisfied: automat>=24.8.0 in c:\\users\\sread\\git\\scrapydemo\\.venv\\lib\\site-packages (from twisted>=21.7.0->scrapy) (25.4.16)\n",
      "Requirement already satisfied: constantly>=15.1 in c:\\users\\sread\\git\\scrapydemo\\.venv\\lib\\site-packages (from twisted>=21.7.0->scrapy) (23.10.4)\n",
      "Requirement already satisfied: hyperlink>=17.1.1 in c:\\users\\sread\\git\\scrapydemo\\.venv\\lib\\site-packages (from twisted>=21.7.0->scrapy) (21.0.0)\n",
      "Requirement already satisfied: incremental>=24.7.0 in c:\\users\\sread\\git\\scrapydemo\\.venv\\lib\\site-packages (from twisted>=21.7.0->scrapy) (24.7.2)\n",
      "Requirement already satisfied: typing-extensions>=4.2.0 in c:\\users\\sread\\git\\scrapydemo\\.venv\\lib\\site-packages (from twisted>=21.7.0->scrapy) (4.14.0)\n",
      "Requirement already satisfied: idna>=2.5 in c:\\users\\sread\\git\\scrapydemo\\.venv\\lib\\site-packages (from hyperlink>=17.1.1->twisted>=21.7.0->scrapy) (3.10)\n",
      "Requirement already satisfied: setuptools>=61.0 in c:\\users\\sread\\git\\scrapydemo\\.venv\\lib\\site-packages (from incremental>=24.7.0->twisted>=21.7.0->scrapy) (80.9.0)\n",
      "Requirement already satisfied: requests>=2.1.0 in c:\\users\\sread\\git\\scrapydemo\\.venv\\lib\\site-packages (from tldextract->scrapy) (2.32.3)\n",
      "Requirement already satisfied: requests-file>=1.4 in c:\\users\\sread\\git\\scrapydemo\\.venv\\lib\\site-packages (from tldextract->scrapy) (2.1.0)\n",
      "Requirement already satisfied: filelock>=3.0.8 in c:\\users\\sread\\git\\scrapydemo\\.venv\\lib\\site-packages (from tldextract->scrapy) (3.18.0)\n",
      "Requirement already satisfied: charset-normalizer<4,>=2 in c:\\users\\sread\\git\\scrapydemo\\.venv\\lib\\site-packages (from requests>=2.1.0->tldextract->scrapy) (3.4.2)\n",
      "Requirement already satisfied: urllib3<3,>=1.21.1 in c:\\users\\sread\\git\\scrapydemo\\.venv\\lib\\site-packages (from requests>=2.1.0->tldextract->scrapy) (2.4.0)\n",
      "Requirement already satisfied: certifi>=2017.4.17 in c:\\users\\sread\\git\\scrapydemo\\.venv\\lib\\site-packages (from requests>=2.1.0->tldextract->scrapy) (2025.4.26)\n",
      "Note: you may need to restart the kernel to use updated packages.\n"
     ]
    }
   ],
   "source": [
    "# Step 1: Install dependencies\n",
    "%pip install scrapy"
   ]
  },
  {
   "cell_type": "code",
   "execution_count": 2,
   "id": "01dc94e4",
   "metadata": {},
   "outputs": [],
   "source": [
    "# Step 2: Import libraries\n",
    "import scrapy\n",
    "from scrapy.crawler import CrawlerProcess\n",
    "import pandas as pd"
   ]
  },
  {
   "cell_type": "code",
   "execution_count": 3,
   "id": "8d2e3bfb",
   "metadata": {},
   "outputs": [],
   "source": [
    "# Step 3: Define a simple spider\n",
    "class QuotesSpider(scrapy.Spider):\n",
    "    name = 'quotes'\n",
    "    start_urls = ['http://quotes.toscrape.com']\n",
    "    custom_settings = {'LOG_LEVEL': 'ERROR'}  # Clean output\n",
    "\n",
    "    def __init__(self, **kwargs):\n",
    "        super().__init__(**kwargs)\n",
    "        self.results = []\n",
    "\n",
    "    def parse(self, response):\n",
    "        for quote in response.css('div.quote'):\n",
    "            self.results.append({\n",
    "                'text': quote.css('span.text::text').get(),\n",
    "                'author': quote.css('span small.author::text').get(),\n",
    "                'tags': quote.css('div.tags a.tag::text').getall()\n",
    "            })\n",
    "        \n",
    "        next_page = response.css('li.next a::attr(href)').get()\n",
    "        if next_page:\n",
    "            yield response.follow(next_page, self.parse)"
   ]
  },
  {
   "cell_type": "code",
   "execution_count": 4,
   "id": "8875e699",
   "metadata": {},
   "outputs": [],
   "source": [
    "# Step 4: Function to run spider and get results\n",
    "def run_spider(spider_class):\n",
    "    process = CrawlerProcess()\n",
    "    spider_instance = spider_class()\n",
    "    process.crawl(spider_class)  # Pass class, not instance!\n",
    "    process.start()\n",
    "    return pd.DataFrame(spider_instance.results)"
   ]
  },
  {
   "cell_type": "code",
   "execution_count": null,
   "id": "72132b73",
   "metadata": {},
   "outputs": [
    {
     "name": "stderr",
     "output_type": "stream",
     "text": [
      "2025-06-04 22:02:16 [scrapy.utils.log] INFO: Scrapy 2.13.1 started (bot: scrapybot)\n",
      "2025-06-04 22:02:16 [scrapy.utils.log] INFO: Versions:\n",
      "{'lxml': '5.4.0',\n",
      " 'libxml2': '2.11.9',\n",
      " 'cssselect': '1.3.0',\n",
      " 'parsel': '1.10.0',\n",
      " 'w3lib': '2.3.1',\n",
      " 'Twisted': '24.11.0',\n",
      " 'Python': '3.13.0rc2 (tags/v3.13.0rc2:ec61006, Sep  6 2024, 22:13:49) [MSC '\n",
      "           'v.1940 64 bit (AMD64)]',\n",
      " 'pyOpenSSL': '25.1.0 (OpenSSL 3.5.0 8 Apr 2025)',\n",
      " 'cryptography': '45.0.3',\n",
      " 'Platform': 'Windows-11-10.0.26100-SP0'}\n"
     ]
    },
    {
     "ename": "RuntimeError",
     "evalue": "This event loop is already running",
     "output_type": "error",
     "traceback": [
      "\u001b[31m---------------------------------------------------------------------------\u001b[39m",
      "\u001b[31mRuntimeError\u001b[39m                              Traceback (most recent call last)",
      "\u001b[36mCell\u001b[39m\u001b[36m \u001b[39m\u001b[32mIn[5]\u001b[39m\u001b[32m, line 2\u001b[39m\n\u001b[32m      1\u001b[39m \u001b[38;5;66;03m# Step 5: Execute and display the results\u001b[39;00m\n\u001b[32m----> \u001b[39m\u001b[32m2\u001b[39m df = \u001b[43mrun_spider\u001b[49m\u001b[43m(\u001b[49m\u001b[43mQuotesSpider\u001b[49m\u001b[43m)\u001b[49m\n",
      "\u001b[36mCell\u001b[39m\u001b[36m \u001b[39m\u001b[32mIn[4]\u001b[39m\u001b[32m, line 6\u001b[39m, in \u001b[36mrun_spider\u001b[39m\u001b[34m(spider_class)\u001b[39m\n\u001b[32m      4\u001b[39m spider_instance = spider_class()\n\u001b[32m      5\u001b[39m process.crawl(spider_class)  \u001b[38;5;66;03m# Pass class, not instance!\u001b[39;00m\n\u001b[32m----> \u001b[39m\u001b[32m6\u001b[39m \u001b[43mprocess\u001b[49m\u001b[43m.\u001b[49m\u001b[43mstart\u001b[49m\u001b[43m(\u001b[49m\u001b[43m)\u001b[49m\n\u001b[32m      7\u001b[39m \u001b[38;5;28;01mreturn\u001b[39;00m pd.DataFrame(spider_instance.results)\n",
      "\u001b[36mFile \u001b[39m\u001b[32mc:\\Users\\sread\\Git\\ScrapyDemo\\.venv\\Lib\\site-packages\\scrapy\\crawler.py:502\u001b[39m, in \u001b[36mCrawlerProcess.start\u001b[39m\u001b[34m(self, stop_after_crawl, install_signal_handlers)\u001b[39m\n\u001b[32m    498\u001b[39m \u001b[38;5;28;01mif\u001b[39;00m install_signal_handlers:\n\u001b[32m    499\u001b[39m     reactor.addSystemEventTrigger(\n\u001b[32m    500\u001b[39m         \u001b[33m\"\u001b[39m\u001b[33mafter\u001b[39m\u001b[33m\"\u001b[39m, \u001b[33m\"\u001b[39m\u001b[33mstartup\u001b[39m\u001b[33m\"\u001b[39m, install_shutdown_handlers, \u001b[38;5;28mself\u001b[39m._signal_shutdown\n\u001b[32m    501\u001b[39m     )\n\u001b[32m--> \u001b[39m\u001b[32m502\u001b[39m \u001b[43mreactor\u001b[49m\u001b[43m.\u001b[49m\u001b[43mrun\u001b[49m\u001b[43m(\u001b[49m\u001b[43minstallSignalHandlers\u001b[49m\u001b[43m=\u001b[49m\u001b[43minstall_signal_handlers\u001b[49m\u001b[43m)\u001b[49m\n",
      "\u001b[36mFile \u001b[39m\u001b[32mc:\\Users\\sread\\Git\\ScrapyDemo\\.venv\\Lib\\site-packages\\twisted\\internet\\asyncioreactor.py:253\u001b[39m, in \u001b[36mAsyncioSelectorReactor.run\u001b[39m\u001b[34m(self, installSignalHandlers)\u001b[39m\n\u001b[32m    251\u001b[39m \u001b[38;5;28;01mdef\u001b[39;00m\u001b[38;5;250m \u001b[39m\u001b[34mrun\u001b[39m(\u001b[38;5;28mself\u001b[39m, installSignalHandlers=\u001b[38;5;28;01mTrue\u001b[39;00m):\n\u001b[32m    252\u001b[39m     \u001b[38;5;28mself\u001b[39m.startRunning(installSignalHandlers=installSignalHandlers)\n\u001b[32m--> \u001b[39m\u001b[32m253\u001b[39m     \u001b[38;5;28;43mself\u001b[39;49m\u001b[43m.\u001b[49m\u001b[43m_asyncioEventloop\u001b[49m\u001b[43m.\u001b[49m\u001b[43mrun_forever\u001b[49m\u001b[43m(\u001b[49m\u001b[43m)\u001b[49m\n\u001b[32m    254\u001b[39m     \u001b[38;5;28;01mif\u001b[39;00m \u001b[38;5;28mself\u001b[39m._justStopped:\n\u001b[32m    255\u001b[39m         \u001b[38;5;28mself\u001b[39m._justStopped = \u001b[38;5;28;01mFalse\u001b[39;00m\n",
      "\u001b[36mFile \u001b[39m\u001b[32m~\\AppData\\Local\\Programs\\Python\\Python313\\Lib\\asyncio\\base_events.py:677\u001b[39m, in \u001b[36mBaseEventLoop.run_forever\u001b[39m\u001b[34m(self)\u001b[39m\n\u001b[32m    675\u001b[39m \u001b[38;5;250m\u001b[39m\u001b[33;03m\"\"\"Run until stop() is called.\"\"\"\u001b[39;00m\n\u001b[32m    676\u001b[39m \u001b[38;5;28;01mtry\u001b[39;00m:\n\u001b[32m--> \u001b[39m\u001b[32m677\u001b[39m     \u001b[38;5;28;43mself\u001b[39;49m\u001b[43m.\u001b[49m\u001b[43m_run_forever_setup\u001b[49m\u001b[43m(\u001b[49m\u001b[43m)\u001b[49m\n\u001b[32m    678\u001b[39m     \u001b[38;5;28;01mwhile\u001b[39;00m \u001b[38;5;28;01mTrue\u001b[39;00m:\n\u001b[32m    679\u001b[39m         \u001b[38;5;28mself\u001b[39m._run_once()\n",
      "\u001b[36mFile \u001b[39m\u001b[32m~\\AppData\\Local\\Programs\\Python\\Python313\\Lib\\asyncio\\base_events.py:646\u001b[39m, in \u001b[36mBaseEventLoop._run_forever_setup\u001b[39m\u001b[34m(self)\u001b[39m\n\u001b[32m    639\u001b[39m \u001b[38;5;250m\u001b[39m\u001b[33;03m\"\"\"Prepare the run loop to process events.\u001b[39;00m\n\u001b[32m    640\u001b[39m \n\u001b[32m    641\u001b[39m \u001b[33;03mThis method exists so that custom custom event loop subclasses (e.g., event loops\u001b[39;00m\n\u001b[32m    642\u001b[39m \u001b[33;03mthat integrate a GUI event loop with Python's event loop) have access to all the\u001b[39;00m\n\u001b[32m    643\u001b[39m \u001b[33;03mloop setup logic.\u001b[39;00m\n\u001b[32m    644\u001b[39m \u001b[33;03m\"\"\"\u001b[39;00m\n\u001b[32m    645\u001b[39m \u001b[38;5;28mself\u001b[39m._check_closed()\n\u001b[32m--> \u001b[39m\u001b[32m646\u001b[39m \u001b[38;5;28;43mself\u001b[39;49m\u001b[43m.\u001b[49m\u001b[43m_check_running\u001b[49m\u001b[43m(\u001b[49m\u001b[43m)\u001b[49m\n\u001b[32m    647\u001b[39m \u001b[38;5;28mself\u001b[39m._set_coroutine_origin_tracking(\u001b[38;5;28mself\u001b[39m._debug)\n\u001b[32m    649\u001b[39m \u001b[38;5;28mself\u001b[39m._old_agen_hooks = sys.get_asyncgen_hooks()\n",
      "\u001b[36mFile \u001b[39m\u001b[32m~\\AppData\\Local\\Programs\\Python\\Python313\\Lib\\asyncio\\base_events.py:633\u001b[39m, in \u001b[36mBaseEventLoop._check_running\u001b[39m\u001b[34m(self)\u001b[39m\n\u001b[32m    631\u001b[39m \u001b[38;5;28;01mdef\u001b[39;00m\u001b[38;5;250m \u001b[39m\u001b[34m_check_running\u001b[39m(\u001b[38;5;28mself\u001b[39m):\n\u001b[32m    632\u001b[39m     \u001b[38;5;28;01mif\u001b[39;00m \u001b[38;5;28mself\u001b[39m.is_running():\n\u001b[32m--> \u001b[39m\u001b[32m633\u001b[39m         \u001b[38;5;28;01mraise\u001b[39;00m \u001b[38;5;167;01mRuntimeError\u001b[39;00m(\u001b[33m'\u001b[39m\u001b[33mThis event loop is already running\u001b[39m\u001b[33m'\u001b[39m)\n\u001b[32m    634\u001b[39m     \u001b[38;5;28;01mif\u001b[39;00m events._get_running_loop() \u001b[38;5;129;01mis\u001b[39;00m \u001b[38;5;129;01mnot\u001b[39;00m \u001b[38;5;28;01mNone\u001b[39;00m:\n\u001b[32m    635\u001b[39m         \u001b[38;5;28;01mraise\u001b[39;00m \u001b[38;5;167;01mRuntimeError\u001b[39;00m(\n\u001b[32m    636\u001b[39m             \u001b[33m'\u001b[39m\u001b[33mCannot run the event loop while another loop is running\u001b[39m\u001b[33m'\u001b[39m)\n",
      "\u001b[31mRuntimeError\u001b[39m: This event loop is already running"
     ]
    },
    {
     "ename": "",
     "evalue": "",
     "output_type": "error",
     "traceback": [
      "\u001b[1;31mThe Kernel crashed while executing code in the current cell or a previous cell. \n",
      "\u001b[1;31mPlease review the code in the cell(s) to identify a possible cause of the failure. \n",
      "\u001b[1;31mClick <a href='https://aka.ms/vscodeJupyterKernelCrash'>here</a> for more info. \n",
      "\u001b[1;31mView Jupyter <a href='command:jupyter.viewOutput'>log</a> for further details."
     ]
    }
   ],
   "source": [
    "# Step 5: Execute and display the results\n",
    "df = run_spider(QuotesSpider)"
   ]
  },
  {
   "cell_type": "code",
   "execution_count": null,
   "id": "4203f5b9",
   "metadata": {},
   "outputs": [],
   "source": []
  }
 ],
 "metadata": {
  "kernelspec": {
   "display_name": ".venv",
   "language": "python",
   "name": "python3"
  },
  "language_info": {
   "codemirror_mode": {
    "name": "ipython",
    "version": 3
   },
   "file_extension": ".py",
   "mimetype": "text/x-python",
   "name": "python",
   "nbconvert_exporter": "python",
   "pygments_lexer": "ipython3",
   "version": "3.13.0rc2"
  }
 },
 "nbformat": 4,
 "nbformat_minor": 5
}
